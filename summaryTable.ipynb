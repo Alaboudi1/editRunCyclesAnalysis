{
 "metadata": {
  "language_info": {
   "codemirror_mode": {
    "name": "ipython",
    "version": 3
   },
   "file_extension": ".py",
   "mimetype": "text/x-python",
   "name": "python",
   "nbconvert_exporter": "python",
   "pygments_lexer": "ipython3",
   "version": "3.8.5-final"
  },
  "orig_nbformat": 2,
  "kernelspec": {
   "name": "python3",
   "display_name": "Python 3",
   "language": "python"
  }
 },
 "nbformat": 4,
 "nbformat_minor": 2,
 "cells": [
  {
   "cell_type": "code",
   "execution_count": 1,
   "metadata": {},
   "outputs": [],
   "source": [
    "import pandas as pd\n",
    "import numpy as np\n",
    "import seaborn as sns\n",
    "import matplotlib.pyplot as plt\n",
    "summery = pd.read_json(\"summary.json\")"
   ]
  },
  {
   "cell_type": "code",
   "execution_count": 2,
   "metadata": {},
   "outputs": [],
   "source": [
    "summery[\"persentageCycleTime\"] = summery[\"cyclesTime\"]/summery[\"episodeTime\"]*100\n",
    "s = pd.DataFrame(summery.groupby('work').mean())"
   ]
  },
  {
   "cell_type": "code",
   "execution_count": 3,
   "metadata": {},
   "outputs": [],
   "source": [
    "with open('mytable.tex', 'w') as tf:\n",
    "     tf.write(s.to_latex())"
   ]
  },
  {
   "cell_type": "code",
   "execution_count": 4,
   "metadata": {},
   "outputs": [
    {
     "output_type": "execute_result",
     "data": {
      "text/plain": [
       "             count        mean          std  min   25%    50%    75%     max\n",
       "work                                                                        \n",
       "debugging     89.0  581.123596  1097.017183  0.0  57.0  176.0  649.0  6809.0\n",
       "programming  104.0  368.500000   543.343925  0.0   0.0  152.0  463.0  2521.0"
      ],
      "text/html": "<div>\n<style scoped>\n    .dataframe tbody tr th:only-of-type {\n        vertical-align: middle;\n    }\n\n    .dataframe tbody tr th {\n        vertical-align: top;\n    }\n\n    .dataframe thead th {\n        text-align: right;\n    }\n</style>\n<table border=\"1\" class=\"dataframe\">\n  <thead>\n    <tr style=\"text-align: right;\">\n      <th></th>\n      <th>count</th>\n      <th>mean</th>\n      <th>std</th>\n      <th>min</th>\n      <th>25%</th>\n      <th>50%</th>\n      <th>75%</th>\n      <th>max</th>\n    </tr>\n    <tr>\n      <th>work</th>\n      <th></th>\n      <th></th>\n      <th></th>\n      <th></th>\n      <th></th>\n      <th></th>\n      <th></th>\n      <th></th>\n    </tr>\n  </thead>\n  <tbody>\n    <tr>\n      <th>debugging</th>\n      <td>89.0</td>\n      <td>581.123596</td>\n      <td>1097.017183</td>\n      <td>0.0</td>\n      <td>57.0</td>\n      <td>176.0</td>\n      <td>649.0</td>\n      <td>6809.0</td>\n    </tr>\n    <tr>\n      <th>programming</th>\n      <td>104.0</td>\n      <td>368.500000</td>\n      <td>543.343925</td>\n      <td>0.0</td>\n      <td>0.0</td>\n      <td>152.0</td>\n      <td>463.0</td>\n      <td>2521.0</td>\n    </tr>\n  </tbody>\n</table>\n</div>"
     },
     "metadata": {},
     "execution_count": 4
    }
   ],
   "source": [
    "summery.groupby(\"work\").cyclesTime.describe()"
   ]
  },
  {
   "cell_type": "code",
   "execution_count": null,
   "metadata": {},
   "outputs": [],
   "source": []
  }
 ]
}